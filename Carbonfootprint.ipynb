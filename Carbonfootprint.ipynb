{
 "cells": [
  {
   "cell_type": "code",
   "execution_count": 1,
   "metadata": {},
   "outputs": [
    {
     "name": "stderr",
     "output_type": "stream",
     "text": [
      "[codecarbon INFO @ 16:24:50] [setup] RAM Tracking...\n",
      "[codecarbon INFO @ 16:24:50] [setup] GPU Tracking...\n",
      "[codecarbon INFO @ 16:24:50] No GPU found.\n",
      "[codecarbon INFO @ 16:24:50] [setup] CPU Tracking...\n",
      "[codecarbon WARNING @ 16:24:50] No CPU tracking mode found. Falling back on CPU constant mode.\n",
      "[codecarbon INFO @ 16:24:50] CPU Model on constant consumption mode: Apple M1\n",
      "[codecarbon INFO @ 16:24:50] >>> Tracker's metadata:\n",
      "[codecarbon INFO @ 16:24:50]   Platform system: macOS-14.2.1-arm64-arm-64bit\n",
      "[codecarbon INFO @ 16:24:50]   Python version: 3.9.10\n",
      "[codecarbon INFO @ 16:24:50]   CodeCarbon version: 2.3.2\n",
      "[codecarbon INFO @ 16:24:50]   Available RAM : 8.000 GB\n",
      "[codecarbon INFO @ 16:24:50]   CPU count: 8\n",
      "[codecarbon INFO @ 16:24:50]   CPU model: Apple M1\n",
      "[codecarbon INFO @ 16:24:50]   GPU count: None\n",
      "[codecarbon INFO @ 16:24:50]   GPU model: None\n",
      "[codecarbon INFO @ 16:24:53] Energy consumed for RAM : 0.000000 kWh. RAM Power : 3.0 W\n",
      "[codecarbon INFO @ 16:24:53] Energy consumed for all CPUs : 0.000000 kWh. Total CPU Power : 5.0 W\n",
      "[codecarbon INFO @ 16:24:53] 0.000000 kWh of electricity used since the beginning.\n",
      "/opt/homebrew/Caskroom/miniforge/base/envs/ev/lib/python3.9/site-packages/codecarbon/output.py:168: FutureWarning: The behavior of DataFrame concatenation with empty or all-NA entries is deprecated. In a future version, this will no longer exclude empty or all-NA columns when determining the result dtypes. To retain the old behavior, exclude the relevant entries before the concat operation.\n",
      "  df = pd.concat([df, pd.DataFrame.from_records([dict(data.values)])])\n"
     ]
    },
    {
     "data": {
      "text/plain": [
       "6.165006685448074e-10"
      ]
     },
     "execution_count": 1,
     "metadata": {},
     "output_type": "execute_result"
    }
   ],
   "source": [
    "from codecarbon import EmissionsTracker\n",
    "tracker = EmissionsTracker ()\n",
    "tracker.start()\n",
    "# GPU Intensive code goes here\n",
    "tracker.stop()"
   ]
  }
 ],
 "metadata": {
  "kernelspec": {
   "display_name": "ev",
   "language": "python",
   "name": "python3"
  },
  "language_info": {
   "codemirror_mode": {
    "name": "ipython",
    "version": 3
   },
   "file_extension": ".py",
   "mimetype": "text/x-python",
   "name": "python",
   "nbconvert_exporter": "python",
   "pygments_lexer": "ipython3",
   "version": "3.9.10"
  }
 },
 "nbformat": 4,
 "nbformat_minor": 2
}
